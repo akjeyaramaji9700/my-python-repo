{
 "cells": [
  {
   "cell_type": "code",
   "execution_count": 8,
   "metadata": {},
   "outputs": [
    {
     "name": "stdout",
     "output_type": "stream",
     "text": [
      "name: dog & Category: pet\n",
      "name: parrot & Category: pet\n"
     ]
    }
   ],
   "source": [
    "#simple class and object example\n",
    "class animal:\n",
    "    def __init__(self,name,category):\n",
    "        self.name = name\n",
    "        self.category = category\n",
    "        \n",
    "    \n",
    "    def display(self):\n",
    "        print('name:',self.name,'& Category:',self.category)\n",
    "        \n",
    "a1 = animal('dog','pet')\n",
    "a2 = animal('parrot', 'pet')\n",
    "\n",
    "a1.display()\n",
    "a2.display()"
   ]
  },
  {
   "cell_type": "code",
   "execution_count": 12,
   "metadata": {},
   "outputs": [
    {
     "name": "stdout",
     "output_type": "stream",
     "text": [
      "The number of objects initiated was 3\n"
     ]
    }
   ],
   "source": [
    "#example of counting the number objects\n",
    "\n",
    "class sample:\n",
    "    count = 0\n",
    "    def __init__(self):\n",
    "        sample.count+= 1\n",
    "    def display(self):\n",
    "        print('The number of objects initiated was',sample.count)\n",
    "        \n",
    "        \n",
    "a1 = sample()\n",
    "a2 = sample()\n",
    "a3 = sample()\n",
    "\n",
    "a1.display()\n",
    "    "
   ]
  },
  {
   "cell_type": "code",
   "execution_count": 30,
   "metadata": {},
   "outputs": [
    {
     "name": "stdout",
     "output_type": "stream",
     "text": [
      "name: dog & Category: pet\n",
      "name: parrot & Category: pet\n",
      "name: Lion & Category: pet\n",
      "Lion pet\n",
      "True\n",
      "name: Lion & Category: wild\n"
     ]
    }
   ],
   "source": [
    "#In-built class functions examples\n",
    "\n",
    "#simple class and object example\n",
    "class animal:\n",
    "    def __init__(self,name,category):\n",
    "        self.name = name\n",
    "        self.category = category\n",
    "        \n",
    "    \n",
    "    def display(self):\n",
    "        print('name:',self.name,'& Category:',self.category)\n",
    "        \n",
    "a1 = animal('dog','pet')\n",
    "a2 = animal('parrot', 'pet')\n",
    "a3 = animal('Lion','pet')\n",
    "\n",
    "a1.display()\n",
    "a2.display()\n",
    "a3.display()\n",
    "\n",
    "print(getattr(a3,'name'),getattr(a3,'category'))\n",
    "\n",
    "setattr(a3,'category',\"wild\")\n",
    "\n",
    "print(hasattr(a2,'category'))\n",
    "\n",
    "a3.display()\n"
   ]
  },
  {
   "cell_type": "code",
   "execution_count": 37,
   "metadata": {},
   "outputs": [
    {
     "name": "stdout",
     "output_type": "stream",
     "text": [
      "None None None\n",
      "{'name': 'dog', 'category': 'pet'} {'name': 'parrot', 'category': 'pet'} {'name': 'Lion', 'category': 'pet'}\n",
      "__main__ __main__ __main__\n"
     ]
    }
   ],
   "source": [
    "#examples of default class attributes\n",
    "\n",
    "#simple class and object example\n",
    "class animal:\n",
    "    def __init__(self,name,category):\n",
    "        self.name = name\n",
    "        self.category = category\n",
    "        \n",
    "    \n",
    "    def display(self):\n",
    "        print('name:',self.name,'& Category:',self.category)\n",
    "        \n",
    "a1 = animal('dog','pet')\n",
    "a2 = animal('parrot', 'pet')\n",
    "a3 = animal('Lion','pet')\n",
    "\n",
    "print(a1.__doc__,a2.__doc__,a3.__doc__)\n",
    "print(a1.__dict__,a2.__dict__,a3.__dict__)\n",
    "print(a1.__module__,a2.__module__,a3.__module__)\n",
    "# print(a1.__name__,a2.__name__,a3.__name__)\n",
    "# print(a1.__bases__,a2.__bases__,a3.__bases__)\n"
   ]
  },
  {
   "cell_type": "code",
   "execution_count": null,
   "metadata": {},
   "outputs": [],
   "source": []
  }
 ],
 "metadata": {
  "kernelspec": {
   "display_name": "Python 3",
   "language": "python",
   "name": "python3"
  },
  "language_info": {
   "codemirror_mode": {
    "name": "ipython",
    "version": 3
   },
   "file_extension": ".py",
   "mimetype": "text/x-python",
   "name": "python",
   "nbconvert_exporter": "python",
   "pygments_lexer": "ipython3",
   "version": "3.6.8"
  }
 },
 "nbformat": 4,
 "nbformat_minor": 2
}
